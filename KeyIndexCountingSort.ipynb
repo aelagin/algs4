{
 "cells": [
  {
   "cell_type": "code",
   "execution_count": 1,
   "metadata": {},
   "outputs": [],
   "source": [
    "import random as rnd"
   ]
  },
  {
   "cell_type": "code",
   "execution_count": 2,
   "metadata": {},
   "outputs": [
    {
     "data": {
      "text/plain": [
       "[0, 1, 2, 3, 4, 5, 6, 7, 8, 9]"
      ]
     },
     "execution_count": 2,
     "metadata": {},
     "output_type": "execute_result"
    }
   ],
   "source": [
    "# create a test list out of 0 to 9 numbers\n",
    "a = [x for x in range(0,10)]\n",
    "a"
   ]
  },
  {
   "cell_type": "code",
   "execution_count": 3,
   "metadata": {},
   "outputs": [
    {
     "name": "stdout",
     "output_type": "stream",
     "text": [
      "[0, 1, 2, 3, 4, 5, 6, 7, 8, 9, 1, 2, 2, 3, 3, 3, 4, 4, 4, 4, 5, 5, 5, 5, 5, 6, 6, 6, 6, 6, 6, 7, 7, 7, 7, 7, 7, 7, 8, 8, 8, 8, 8, 8, 8, 8, 9, 9, 9, 9, 9, 9, 9, 9, 9]\n"
     ]
    }
   ],
   "source": [
    "# add more 0-9 numbers to the list\n",
    "for i in range (1,10):\n",
    "    for j in range(0,i):\n",
    "        a.append(i)\n",
    "print(a)"
   ]
  },
  {
   "cell_type": "code",
   "execution_count": 4,
   "metadata": {},
   "outputs": [
    {
     "name": "stdout",
     "output_type": "stream",
     "text": [
      "[7, 5, 7, 4, 7, 4, 8, 7, 9, 9, 9, 9, 6, 7, 8, 1, 6, 4, 2, 9, 2, 5, 8, 6, 3, 8, 8, 5, 9, 7, 0, 5, 3, 8, 3, 6, 8, 4, 9, 8, 1, 7, 5, 7, 4, 8, 9, 6, 6, 6, 2, 5, 9, 3, 9]\n"
     ]
    }
   ],
   "source": [
    "# shuffle the list to make it unordered\n",
    "rnd.shuffle(a)\n",
    "print(a)"
   ]
  },
  {
   "cell_type": "code",
   "execution_count": 5,
   "metadata": {},
   "outputs": [],
   "source": [
    "# sorting a list a with R distinct integers\n",
    "# this version creates and returns a new copy of the sorted input list\n",
    "def KeyIndexCountingSort(a,R):\n",
    "    n = len(a)\n",
    "    count = [0]*(R+1)             # key-index counting array; it has to be shifted by 1\n",
    "    aux = [None]*n                # the auxiliary to store sorted array\n",
    "    for i in range(0,n):\n",
    "        count[a[i]+1] += 1        # count the frequencies of each key, remember to shift indicies by one\n",
    "    for i in range(1,R+1):\n",
    "        count[i] += count[i-1]    # calculate the index position (for the first occurance) of the key in the sorted list\n",
    "    for i in range(0,n):\n",
    "        aux[count[a[i]]] = a[i]   # copy the input list into the sorted list according with pre-calculated indicies\n",
    "        count[a[i]] += 1          # increase the index by one if there are multiple occurances of the key\n",
    "    return aux"
   ]
  },
  {
   "cell_type": "code",
   "execution_count": 6,
   "metadata": {},
   "outputs": [],
   "source": [
    "# run the test\n",
    "a = KeyIndexCountingSort(a,10)"
   ]
  },
  {
   "cell_type": "code",
   "execution_count": 7,
   "metadata": {},
   "outputs": [
    {
     "name": "stdout",
     "output_type": "stream",
     "text": [
      "[0, 1, 1, 2, 2, 2, 3, 3, 3, 3, 4, 4, 4, 4, 4, 5, 5, 5, 5, 5, 5, 6, 6, 6, 6, 6, 6, 6, 7, 7, 7, 7, 7, 7, 7, 7, 8, 8, 8, 8, 8, 8, 8, 8, 8, 9, 9, 9, 9, 9, 9, 9, 9, 9, 9]\n",
      "55\n"
     ]
    }
   ],
   "source": [
    "print(a)\n",
    "print(len(a))"
   ]
  },
  {
   "cell_type": "code",
   "execution_count": null,
   "metadata": {},
   "outputs": [],
   "source": []
  }
 ],
 "metadata": {
  "kernelspec": {
   "display_name": "Python 3",
   "language": "python",
   "name": "python3"
  },
  "language_info": {
   "codemirror_mode": {
    "name": "ipython",
    "version": 3
   },
   "file_extension": ".py",
   "mimetype": "text/x-python",
   "name": "python",
   "nbconvert_exporter": "python",
   "pygments_lexer": "ipython3",
   "version": "3.8.5"
  }
 },
 "nbformat": 4,
 "nbformat_minor": 4
}
