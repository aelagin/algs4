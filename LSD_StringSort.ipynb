{
 "cells": [
  {
   "cell_type": "code",
   "execution_count": 1,
   "metadata": {},
   "outputs": [],
   "source": [
    "# sorting a list of strings of the same length\n",
    "def LSD_StringSort(a, w, R=256):\n",
    "    n = len(a)\n",
    "    aux = [None]*n\n",
    "    for d in range (w-1,-1,-1):               # start from the most right symbol and move backwards\n",
    "        count = [0]*(R+1)\n",
    "        for i in range(0,n):\n",
    "            count[ord(a[i][d])+1] += 1        # count the frequencies of each key, remember to shift indicies by one\n",
    "        for i in range(1,R+1):\n",
    "            count[i] += count[i-1]            # calculate the index position (for the first occurance) of the key in the sorted list\n",
    "        for i in range(0,n):\n",
    "            aux[count[ord(a[i][d])]] = a[i]   # copy the input list into the sorted list according with pre-calculated indicies\n",
    "            count[ord(a[i][d])] += 1          # increase the index by one if there are multiple occurances of the key\n",
    "        for i in range(0,n):\n",
    "            a[i] = aux[i]"
   ]
  },
  {
   "cell_type": "code",
   "execution_count": 2,
   "metadata": {},
   "outputs": [
    {
     "name": "stdout",
     "output_type": "stream",
     "text": [
      "['aaa', 'acd', 'acd', 'gre', 'qwe', 'qwe', 'rty']\n"
     ]
    }
   ],
   "source": [
    "# test input 1\n",
    "a = ['acd','gre','qwe', 'rty', 'qwe', 'aaa', 'acd']\n",
    "LSD_StringSort(a,3)\n",
    "print(a)"
   ]
  },
  {
   "cell_type": "code",
   "execution_count": 3,
   "metadata": {},
   "outputs": [
    {
     "name": "stdout",
     "output_type": "stream",
     "text": [
      "['21gre', '21gre', 'a78aa', 'a78aa', 'acd45', 'acd45', 'acd45', 'acd45', 'q34we', 'q34we', 'qw78e', 'qw78e', 'r76ty', 'r76ty']\n"
     ]
    }
   ],
   "source": [
    "# test input 2\n",
    "a = ['acd45','21gre','q34we', 'r76ty', 'qw78e', 'a78aa', 'acd45','acd45','21gre','q34we', 'r76ty', 'qw78e', 'a78aa', 'acd45']\n",
    "LSD_StringSort(a,5)\n",
    "print(a)"
   ]
  },
  {
   "cell_type": "code",
   "execution_count": 4,
   "metadata": {},
   "outputs": [],
   "source": [
    "import random as rnd"
   ]
  },
  {
   "cell_type": "code",
   "execution_count": 5,
   "metadata": {},
   "outputs": [
    {
     "data": {
      "text/plain": [
       "['21gre',\n",
       " 'q34we',\n",
       " 'acd45',\n",
       " 'acd45',\n",
       " 'acd45',\n",
       " 'r76ty',\n",
       " '21gre',\n",
       " 'q34we',\n",
       " 'a78aa',\n",
       " 'acd45',\n",
       " 'a78aa',\n",
       " 'r76ty',\n",
       " 'qw78e',\n",
       " 'qw78e']"
      ]
     },
     "execution_count": 5,
     "metadata": {},
     "output_type": "execute_result"
    }
   ],
   "source": [
    "rnd.shuffle(a)\n",
    "a"
   ]
  },
  {
   "cell_type": "code",
   "execution_count": 7,
   "metadata": {},
   "outputs": [
    {
     "data": {
      "text/plain": [
       "['a78aa',\n",
       " 'r76ty',\n",
       " 'r76ty',\n",
       " 'qw78e',\n",
       " 'a78aa',\n",
       " 'q34we',\n",
       " '21gre',\n",
       " 'acd45',\n",
       " '21gre',\n",
       " 'acd45',\n",
       " 'acd45',\n",
       " 'qw78e',\n",
       " 'q34we',\n",
       " 'acd45']"
      ]
     },
     "execution_count": 7,
     "metadata": {},
     "output_type": "execute_result"
    }
   ],
   "source": [
    "rnd.shuffle(a)\n",
    "a"
   ]
  },
  {
   "cell_type": "code",
   "execution_count": 8,
   "metadata": {},
   "outputs": [
    {
     "data": {
      "text/plain": [
       "['21gre',\n",
       " '21gre',\n",
       " 'a78aa',\n",
       " 'a78aa',\n",
       " 'acd45',\n",
       " 'acd45',\n",
       " 'acd45',\n",
       " 'acd45',\n",
       " 'q34we',\n",
       " 'q34we',\n",
       " 'qw78e',\n",
       " 'qw78e',\n",
       " 'r76ty',\n",
       " 'r76ty']"
      ]
     },
     "execution_count": 8,
     "metadata": {},
     "output_type": "execute_result"
    }
   ],
   "source": [
    "a.sort()\n",
    "a"
   ]
  },
  {
   "cell_type": "code",
   "execution_count": null,
   "metadata": {},
   "outputs": [],
   "source": []
  }
 ],
 "metadata": {
  "kernelspec": {
   "display_name": "Python 3",
   "language": "python",
   "name": "python3"
  },
  "language_info": {
   "codemirror_mode": {
    "name": "ipython",
    "version": 3
   },
   "file_extension": ".py",
   "mimetype": "text/x-python",
   "name": "python",
   "nbconvert_exporter": "python",
   "pygments_lexer": "ipython3",
   "version": "3.8.5"
  }
 },
 "nbformat": 4,
 "nbformat_minor": 4
}
