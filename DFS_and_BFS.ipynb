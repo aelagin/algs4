{
 "cells": [
  {
   "cell_type": "code",
   "execution_count": null,
   "metadata": {},
   "outputs": [],
   "source": []
  },
  {
   "cell_type": "code",
   "execution_count": 49,
   "metadata": {},
   "outputs": [],
   "source": [
    "def add_vertex(G, v):\n",
    "    if v in G.keys():\n",
    "        print('Warning: vertex already exists')\n",
    "    else:\n",
    "        G[v] = []"
   ]
  },
  {
   "cell_type": "code",
   "execution_count": 50,
   "metadata": {},
   "outputs": [],
   "source": [
    "# 'd' is a dict of lists\n",
    "# append a list with a value 'v' corresponding to the key 'k'\n",
    "def add_edge(d,k,w=None):\n",
    "    if k in d.keys():\n",
    "        d[k].append(w)\n",
    "    else :\n",
    "        print('Warning: the vertex ',k, 'has not been created in the graph yet')"
   ]
  },
  {
   "cell_type": "code",
   "execution_count": 33,
   "metadata": {},
   "outputs": [],
   "source": [
    "# 'd' is a dict of lists\n",
    "# append (or create) a list with a value 'v' corresponding to the key 'k'\n",
    "def fill_d(d,k,v=None):\n",
    "    if k in d.keys():\n",
    "        d[k].append(v)\n",
    "    else :\n",
    "        d[k] = [v] if v!=None else []"
   ]
  },
  {
   "cell_type": "code",
   "execution_count": 51,
   "metadata": {},
   "outputs": [
    {
     "name": "stdout",
     "output_type": "stream",
     "text": [
      "4 4\n"
     ]
    }
   ],
   "source": [
    "grid = [[1, 1, 1, 0], [0, 1, 1, 0], [0, 0, 1, 0], [1, 0, 0, 0]]\n",
    "n = len(grid)\n",
    "m = len(grid[0])\n",
    "print(n,m)"
   ]
  },
  {
   "cell_type": "code",
   "execution_count": 52,
   "metadata": {},
   "outputs": [
    {
     "data": {
      "text/plain": [
       "[1, 1, 1, 0]"
      ]
     },
     "execution_count": 52,
     "metadata": {},
     "output_type": "execute_result"
    }
   ],
   "source": [
    "grid[0]"
   ]
  },
  {
   "cell_type": "code",
   "execution_count": 53,
   "metadata": {},
   "outputs": [
    {
     "name": "stdout",
     "output_type": "stream",
     "text": [
      "1\n",
      "1\n",
      "1\n",
      "0\n",
      "0\n",
      "1\n",
      "1\n",
      "0\n",
      "0\n",
      "0\n",
      "1\n",
      "0\n",
      "1\n",
      "0\n",
      "0\n",
      "0\n"
     ]
    }
   ],
   "source": [
    "for i in grid:\n",
    "    for j in i:\n",
    "        print(j)"
   ]
  },
  {
   "cell_type": "code",
   "execution_count": 54,
   "metadata": {},
   "outputs": [
    {
     "data": {
      "text/plain": [
       "{0: [1, 5],\n",
       " 1: [0, 2, 5, 6],\n",
       " 2: [1, 5, 6],\n",
       " 5: [0, 1, 2, 6, 10],\n",
       " 6: [1, 2, 5, 10],\n",
       " 10: [5, 6],\n",
       " 12: []}"
      ]
     },
     "execution_count": 54,
     "metadata": {},
     "output_type": "execute_result"
    }
   ],
   "source": [
    "G = {}\n",
    "def vertex(i,j):\n",
    "    return n*i+j\n",
    "\n",
    "for i in range(0,n):\n",
    "    for j in range(0,m):\n",
    "        if grid[i][j] :\n",
    "            add_vertex(G, vertex(i,j))\n",
    "            for ni in range(-1,2):\n",
    "                for nj in range(-1,2):\n",
    "                    if i+ni>=0 and j+nj>=0 and i+ni<n and j+nj<m and not(ni==0 and nj==0):\n",
    "                        if(grid[i+ni][j+nj]):\n",
    "                            add_edge(G, vertex(i,j), vertex(i+ni,j+nj))\n",
    "G            "
   ]
  },
  {
   "cell_type": "code",
   "execution_count": 23,
   "metadata": {},
   "outputs": [],
   "source": [
    "d = {}\n",
    "\n",
    "d[1] = [1,2,3,4]\n",
    "d[2] = [4,5,6]\n",
    "\n",
    "def fill_d(d,k,v):\n",
    "    if k in d.keys():\n",
    "        d[k].append(v)\n",
    "    else :\n",
    "        d[k] = []\n"
   ]
  },
  {
   "cell_type": "code",
   "execution_count": 24,
   "metadata": {},
   "outputs": [
    {
     "data": {
      "text/plain": [
       "{1: [1, 2, 3, 4, 10], 2: [4, 5, 6, 11], 3: [12]}"
      ]
     },
     "execution_count": 24,
     "metadata": {},
     "output_type": "execute_result"
    }
   ],
   "source": [
    "fill_d(d,1,10)\n",
    "fill_d(d,2,11)\n",
    "fill_d(d,3,12)\n",
    "d"
   ]
  },
  {
   "cell_type": "code",
   "execution_count": 25,
   "metadata": {},
   "outputs": [
    {
     "data": {
      "text/plain": [
       "{1: [1, 2, 3, 4, 10, 13], 2: [4, 5, 6, 11, 14], 3: [12, 15]}"
      ]
     },
     "execution_count": 25,
     "metadata": {},
     "output_type": "execute_result"
    }
   ],
   "source": [
    "fill_d(d,1,13)\n",
    "fill_d(d,2,14)\n",
    "fill_d(d,3,15)\n",
    "d"
   ]
  },
  {
   "cell_type": "code",
   "execution_count": 43,
   "metadata": {},
   "outputs": [
    {
     "name": "stdout",
     "output_type": "stream",
     "text": [
      "0\n",
      "1\n",
      "2\n"
     ]
    }
   ],
   "source": [
    "#r = range(0,5)\n",
    "for i in [0,1,2]:\n",
    "    print(i)"
   ]
  },
  {
   "cell_type": "code",
   "execution_count": null,
   "metadata": {},
   "outputs": [],
   "source": []
  }
 ],
 "metadata": {
  "kernelspec": {
   "display_name": "Python 3",
   "language": "python",
   "name": "python3"
  },
  "language_info": {
   "codemirror_mode": {
    "name": "ipython",
    "version": 3
   },
   "file_extension": ".py",
   "mimetype": "text/x-python",
   "name": "python",
   "nbconvert_exporter": "python",
   "pygments_lexer": "ipython3",
   "version": "3.8.5"
  }
 },
 "nbformat": 4,
 "nbformat_minor": 4
}
