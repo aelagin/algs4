{
 "cells": [
  {
   "cell_type": "code",
   "execution_count": 1,
   "metadata": {},
   "outputs": [],
   "source": [
    "def add_vertex(G, v):\n",
    "    if v in G.keys():\n",
    "        print('Warning: vertex already exists')\n",
    "    else:\n",
    "        G[v] = []"
   ]
  },
  {
   "cell_type": "code",
   "execution_count": 2,
   "metadata": {},
   "outputs": [],
   "source": [
    "# 'd' is a dict of lists\n",
    "# append a list with a value 'v' corresponding to the key 'k'\n",
    "def add_edge(d,k,w=None):\n",
    "    if k in d.keys():\n",
    "        d[k].append(w)\n",
    "    else :\n",
    "        print('Warning: the vertex ',k, 'has not been created in the graph yet')"
   ]
  },
  {
   "cell_type": "code",
   "execution_count": 3,
   "metadata": {},
   "outputs": [],
   "source": [
    "# 'd' is a dict of lists\n",
    "# append (or create) a list with a value 'v' corresponding to the key 'k'\n",
    "def fill_d(d,k,v=None):\n",
    "    if k in d.keys():\n",
    "        d[k].append(v)\n",
    "    else :\n",
    "        d[k] = [v] if v!=None else []"
   ]
  },
  {
   "cell_type": "code",
   "execution_count": 4,
   "metadata": {},
   "outputs": [
    {
     "name": "stdout",
     "output_type": "stream",
     "text": [
      "4 4\n"
     ]
    }
   ],
   "source": [
    "grid = [[1, 1, 0, 0], [0, 0, 0, 0], [0, 0, 1, 0], [1, 0, 0, 1]]\n",
    "n = len(grid)\n",
    "m = len(grid[0])\n",
    "print(n,m)"
   ]
  },
  {
   "cell_type": "code",
   "execution_count": 21,
   "metadata": {},
   "outputs": [],
   "source": [
    "grid = [[0, 1, 0, 0, 0, 0, 1, 1, 0],\n",
    "[1, 1, 0, 0, 1, 0, 0, 0, 1],\n",
    "[0, 0, 0, 0, 1, 0, 1, 0, 0],\n",
    "[0, 1, 1, 1, 0, 1, 0, 1, 1],\n",
    "[0, 1, 1, 1, 0, 0, 1, 1, 0],\n",
    "[0, 1, 0, 1, 1, 0, 1, 1, 0],\n",
    "[0, 1, 0, 0, 1, 1, 0, 1, 1],\n",
    "[1, 0, 1, 1, 1, 1, 0, 0, 0]]"
   ]
  },
  {
   "cell_type": "code",
   "execution_count": 6,
   "metadata": {},
   "outputs": [],
   "source": [
    "grid = [[1, 1, 1, 1], [1, 1, 1, 1], [1, 1, 1, 1]]"
   ]
  },
  {
   "cell_type": "code",
   "execution_count": 22,
   "metadata": {},
   "outputs": [
    {
     "name": "stdout",
     "output_type": "stream",
     "text": [
      "8 9\n"
     ]
    }
   ],
   "source": [
    "n = len(grid)\n",
    "m = len(grid[0])\n",
    "print(n,m)"
   ]
  },
  {
   "cell_type": "code",
   "execution_count": 23,
   "metadata": {},
   "outputs": [],
   "source": [
    "def vertex(i,j,):\n",
    "    return m*i+j"
   ]
  },
  {
   "cell_type": "code",
   "execution_count": 24,
   "metadata": {},
   "outputs": [],
   "source": [
    "def convert_matrix_to_dict_graph(grid):\n",
    "    G = {}\n",
    "    n = len(grid)\n",
    "    m = len(grid[0])\n",
    "    for i in range(0,n):\n",
    "        for j in range(0,m):\n",
    "            if grid[i][j] :\n",
    "                add_vertex(G, vertex(i,j))\n",
    "                for ni in range(-1,2):\n",
    "                    for nj in range(-1,2):\n",
    "                        if i+ni>=0 and j+nj>=0 and i+ni<n and j+nj<m and not(ni==0 and nj==0):\n",
    "                            if(grid[i+ni][j+nj]):\n",
    "                                add_edge(G, vertex(i,j), vertex(i+ni,j+nj))\n",
    "    return G            "
   ]
  },
  {
   "cell_type": "code",
   "execution_count": 25,
   "metadata": {},
   "outputs": [],
   "source": [
    "count =0\n",
    "count_list = []\n",
    "marked = {}\n"
   ]
  },
  {
   "cell_type": "code",
   "execution_count": 26,
   "metadata": {},
   "outputs": [],
   "source": [
    "def dfs(G, v):\n",
    "    marked[v] = True\n",
    "    global count\n",
    "    count += 1\n",
    "    for w in G[v]:\n",
    "        if not(marked[w]):\n",
    "            dfs(G,w)"
   ]
  },
  {
   "cell_type": "code",
   "execution_count": 27,
   "metadata": {},
   "outputs": [],
   "source": [
    "def connectedCell(grid):\n",
    "    global count\n",
    "    G = convert_matrix_to_dict_graph(grid)\n",
    "    print(G)\n",
    "    for k in G.keys():\n",
    "        marked[k] = False\n",
    "\n",
    "    #print(marked)\n",
    "    for s in G.keys():\n",
    "        count = 0\n",
    "        if not(marked[s]):\n",
    "            dfs(G, s)\n",
    "            count_list.append(count)\n",
    "    print(count_list)\n",
    "    return max(count_list)"
   ]
  },
  {
   "cell_type": "code",
   "execution_count": 28,
   "metadata": {},
   "outputs": [
    {
     "name": "stdout",
     "output_type": "stream",
     "text": [
      "{1: [9, 10], 6: [7], 7: [6, 17], 9: [1, 10], 10: [1, 9], 13: [22], 17: [7], 22: [13, 30, 32], 24: [32, 34], 28: [29, 37, 38], 29: [28, 30, 37, 38, 39], 30: [22, 29, 38, 39], 32: [22, 24, 42], 34: [24, 35, 42, 43], 35: [34, 43], 37: [28, 29, 38, 46], 38: [28, 29, 30, 37, 39, 46, 48], 39: [29, 30, 38, 48, 49], 42: [32, 34, 43, 51, 52], 43: [34, 35, 42, 51, 52], 46: [37, 38, 55], 48: [38, 39, 49, 58], 49: [39, 48, 58, 59], 51: [42, 43, 52, 59, 61], 52: [42, 43, 51, 61, 62], 55: [46, 63, 65], 58: [48, 49, 59, 66, 67, 68], 59: [49, 51, 58, 67, 68], 61: [51, 52, 62], 62: [52, 61], 63: [55], 65: [55, 66], 66: [58, 65, 67], 67: [58, 59, 66, 68], 68: [58, 59, 67]}\n",
      "[3, 3, 29]\n"
     ]
    },
    {
     "data": {
      "text/plain": [
       "29"
      ]
     },
     "execution_count": 28,
     "metadata": {},
     "output_type": "execute_result"
    }
   ],
   "source": [
    "connectedCell(grid)"
   ]
  },
  {
   "cell_type": "code",
   "execution_count": null,
   "metadata": {},
   "outputs": [],
   "source": [
    "    # Write your code here\n",
    "    if(low<high):\n",
    "        print('Error: low<high')\n",
    "        return None\n",
    "    n=low\n",
    "    while n<=high :\n",
    "        for i in"
   ]
  },
  {
   "cell_type": "code",
   "execution_count": 29,
   "metadata": {},
   "outputs": [
    {
     "data": {
      "text/plain": [
       "144"
      ]
     },
     "execution_count": 29,
     "metadata": {},
     "output_type": "execute_result"
    }
   ],
   "source": [
    "pow(12,2)"
   ]
  },
  {
   "cell_type": "code",
   "execution_count": 33,
   "metadata": {},
   "outputs": [
    {
     "name": "stdout",
     "output_type": "stream",
     "text": [
      "14\n"
     ]
    }
   ],
   "source": [
    "high=2e9\n",
    "x = 0\n",
    "for i in range (0,100):\n",
    "    x = pow(5,i)\n",
    "    if x>high:\n",
    "        print(i)\n",
    "        break\n",
    "            "
   ]
  },
  {
   "cell_type": "code",
   "execution_count": 36,
   "metadata": {},
   "outputs": [
    {
     "data": {
      "text/plain": [
       "[3, 6, 6, 43]"
      ]
     },
     "execution_count": 36,
     "metadata": {},
     "output_type": "execute_result"
    }
   ],
   "source": [
    "a = [43,6,3,6]\n",
    "a.sort()\n",
    "a"
   ]
  },
  {
   "cell_type": "code",
   "execution_count": null,
   "metadata": {},
   "outputs": [],
   "source": [
    "def has_duplicates(a):\n",
    "    if len(a)==1:\n",
    "        return False # no duplicates\n",
    "    a.sort()\n",
    "    for i in range(1,len(a)):\n",
    "        if a[i-1]==a[i]:\n",
    "            return True # duplicates detected\n",
    "    return False\n",
    "            \n",
    "def partitionArray(k, numbers):\n",
    "    # Write your code here\n",
    "    if len(numbers)%k !=0:\n",
    "        return 'No'\n",
    "    for i in range(0,int(len(numbers)/k)):\n",
    "        if has_duplicates(numbers[i*k:i*(k+1)]):\n",
    "            return 'No'\n",
    "    return 'Yes'\n",
    "        "
   ]
  }
 ],
 "metadata": {
  "kernelspec": {
   "display_name": "Python 3",
   "language": "python",
   "name": "python3"
  },
  "language_info": {
   "codemirror_mode": {
    "name": "ipython",
    "version": 3
   },
   "file_extension": ".py",
   "mimetype": "text/x-python",
   "name": "python",
   "nbconvert_exporter": "python",
   "pygments_lexer": "ipython3",
   "version": "3.8.5"
  }
 },
 "nbformat": 4,
 "nbformat_minor": 4
}
