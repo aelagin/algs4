{
 "cells": [
  {
   "cell_type": "code",
   "execution_count": 47,
   "metadata": {},
   "outputs": [],
   "source": [
    "def add_vertex(G, v):\n",
    "    if v in G.keys():\n",
    "        print('Warning: vertex already exists')\n",
    "    else:\n",
    "        G[v] = []"
   ]
  },
  {
   "cell_type": "code",
   "execution_count": 48,
   "metadata": {},
   "outputs": [],
   "source": [
    "# 'd' is a dict of lists\n",
    "# append a list with a value 'v' corresponding to the key 'k'\n",
    "def add_edge(d,k,w=None):\n",
    "    if k in d.keys():\n",
    "        d[k].append(w)\n",
    "    else :\n",
    "        print('Warning: the vertex ',k, 'has not been created in the graph yet')"
   ]
  },
  {
   "cell_type": "code",
   "execution_count": 49,
   "metadata": {},
   "outputs": [],
   "source": [
    "# 'd' is a dict of lists\n",
    "# append (or create) a list with a value 'v' corresponding to the key 'k'\n",
    "def fill_d(d,k,v=None):\n",
    "    if k in d.keys():\n",
    "        d[k].append(v)\n",
    "    else :\n",
    "        d[k] = [v] if v!=None else []"
   ]
  },
  {
   "cell_type": "code",
   "execution_count": 50,
   "metadata": {},
   "outputs": [],
   "source": [
    "#grid = [[1, 1, 0, 0], [0, 0, 0, 0], [0, 0, 1, 0], [1, 0, 0, 1]]\n",
    "#n = len(grid)\n",
    "#m = len(grid[0])\n",
    "#print(n,m)"
   ]
  },
  {
   "cell_type": "code",
   "execution_count": 51,
   "metadata": {},
   "outputs": [],
   "source": [
    "grid = [[0, 1, 0, 0, 0, 0, 1, 1, 0],\n",
    "[1, 1, 0, 0, 1, 0, 0, 0, 1],\n",
    "[0, 0, 0, 0, 1, 0, 1, 0, 0],\n",
    "[0, 1, 1, 1, 0, 1, 0, 1, 1],\n",
    "[0, 1, 1, 1, 0, 0, 1, 1, 0],\n",
    "[0, 1, 0, 1, 1, 0, 1, 1, 0],\n",
    "[0, 1, 0, 0, 1, 1, 0, 1, 1],\n",
    "[1, 0, 1, 1, 1, 1, 0, 0, 0]]"
   ]
  },
  {
   "cell_type": "code",
   "execution_count": 52,
   "metadata": {},
   "outputs": [],
   "source": [
    "#grid = [[1, 1, 1, 1], [1, 1, 1, 1], [1, 1, 1, 1]]"
   ]
  },
  {
   "cell_type": "code",
   "execution_count": 53,
   "metadata": {},
   "outputs": [
    {
     "name": "stdout",
     "output_type": "stream",
     "text": [
      "8 9\n"
     ]
    }
   ],
   "source": [
    "n = len(grid)\n",
    "m = len(grid[0])\n",
    "print(n,m)"
   ]
  },
  {
   "cell_type": "code",
   "execution_count": 54,
   "metadata": {},
   "outputs": [],
   "source": [
    "def vertex(i,j,):\n",
    "    return m*i+j"
   ]
  },
  {
   "cell_type": "code",
   "execution_count": 55,
   "metadata": {},
   "outputs": [],
   "source": [
    "def convert_matrix_to_dict_graph(grid):\n",
    "    G = {}\n",
    "    n = len(grid)\n",
    "    m = len(grid[0])\n",
    "    for i in range(0,n):\n",
    "        for j in range(0,m):\n",
    "            if grid[i][j] :\n",
    "                add_vertex(G, vertex(i,j))\n",
    "                for ni in range(-1,2):\n",
    "                    for nj in range(-1,2):\n",
    "                        if i+ni>=0 and j+nj>=0 and i+ni<n and j+nj<m and not(ni==0 and nj==0):\n",
    "                            if(grid[i+ni][j+nj]):\n",
    "                                add_edge(G, vertex(i,j), vertex(i+ni,j+nj))\n",
    "    return G            "
   ]
  },
  {
   "cell_type": "code",
   "execution_count": 56,
   "metadata": {},
   "outputs": [],
   "source": [
    "count =0\n",
    "count_list = []\n",
    "marked = {}\n"
   ]
  },
  {
   "cell_type": "code",
   "execution_count": 57,
   "metadata": {},
   "outputs": [],
   "source": [
    "def dfs(G, v):\n",
    "    marked[v] = True\n",
    "    global count\n",
    "    count += 1\n",
    "    for w in G[v]:\n",
    "        if not(marked[w]):\n",
    "            dfs(G,w)"
   ]
  },
  {
   "cell_type": "code",
   "execution_count": 58,
   "metadata": {},
   "outputs": [],
   "source": [
    "def connectedCell(grid):\n",
    "    global count\n",
    "    G = convert_matrix_to_dict_graph(grid)\n",
    "    print(G)\n",
    "    for k in G.keys():\n",
    "        marked[k] = False\n",
    "\n",
    "    #print(marked)\n",
    "    for s in G.keys():\n",
    "        count = 0\n",
    "        if not(marked[s]):\n",
    "            dfs(G, s)\n",
    "            count_list.append(count)\n",
    "    print(count_list)\n",
    "    return max(count_list)"
   ]
  },
  {
   "cell_type": "code",
   "execution_count": 59,
   "metadata": {},
   "outputs": [
    {
     "name": "stdout",
     "output_type": "stream",
     "text": [
      "{1: [9, 10], 6: [7], 7: [6, 17], 9: [1, 10], 10: [1, 9], 13: [22], 17: [7], 22: [13, 30, 32], 24: [32, 34], 28: [29, 37, 38], 29: [28, 30, 37, 38, 39], 30: [22, 29, 38, 39], 32: [22, 24, 42], 34: [24, 35, 42, 43], 35: [34, 43], 37: [28, 29, 38, 46], 38: [28, 29, 30, 37, 39, 46, 48], 39: [29, 30, 38, 48, 49], 42: [32, 34, 43, 51, 52], 43: [34, 35, 42, 51, 52], 46: [37, 38, 55], 48: [38, 39, 49, 58], 49: [39, 48, 58, 59], 51: [42, 43, 52, 59, 61], 52: [42, 43, 51, 61, 62], 55: [46, 63, 65], 58: [48, 49, 59, 66, 67, 68], 59: [49, 51, 58, 67, 68], 61: [51, 52, 62], 62: [52, 61], 63: [55], 65: [55, 66], 66: [58, 65, 67], 67: [58, 59, 66, 68], 68: [58, 59, 67]}\n",
      "[3, 3, 29]\n"
     ]
    },
    {
     "data": {
      "text/plain": [
       "29"
      ]
     },
     "execution_count": 59,
     "metadata": {},
     "output_type": "execute_result"
    }
   ],
   "source": [
    "connectedCell(grid)"
   ]
  },
  {
   "cell_type": "code",
   "execution_count": 114,
   "metadata": {},
   "outputs": [],
   "source": [
    "data = [100, 200, 100, 500, 100, 600]\n",
    "edges = [[1, 2], [2, 3], [2, 5], [4, 5], [5, 6]]\n",
    "#data  = [1,2,3,4,5,6]\n",
    "#edges = [[1,2],[1,3],[2,6],[3,4],[3,5]]"
   ]
  },
  {
   "cell_type": "code",
   "execution_count": 115,
   "metadata": {},
   "outputs": [],
   "source": [
    "def add_edges(G, edges, exclude=None):\n",
    "    edge_num = -1\n",
    "    for e in edges:\n",
    "        edge_num += 1\n",
    "        if edge_num==exclude:\n",
    "            continue\n",
    "        add_edge(G, e[0], e[1])\n",
    "        add_edge(G, e[1], e[0])\n",
    "        \n",
    "    return"
   ]
  },
  {
   "cell_type": "code",
   "execution_count": 116,
   "metadata": {},
   "outputs": [],
   "source": [
    "# creates a graph with empty edges of the form {1: [], 2: [], 3: [], 4: [], 5: [], 6: []}\n",
    "# vertex counting starts from 1, total number of verticies is given by len(a\n",
    "def vtx_graph(vtx_num):\n",
    "    G = {}\n",
    "    for i in range(1,vtx_num+1):\n",
    "        add_vertex(G,i)\n",
    "    return G"
   ]
  },
  {
   "cell_type": "code",
   "execution_count": 80,
   "metadata": {},
   "outputs": [],
   "source": [
    "add_edges(G,edges,0)"
   ]
  },
  {
   "cell_type": "code",
   "execution_count": 81,
   "metadata": {},
   "outputs": [
    {
     "data": {
      "text/plain": [
       "{1: [3, 3], 2: [6, 6], 3: [1, 4, 5, 1, 4, 5], 4: [3, 3], 5: [3, 3], 6: [2, 2]}"
      ]
     },
     "execution_count": 81,
     "metadata": {},
     "output_type": "execute_result"
    }
   ],
   "source": [
    "G"
   ]
  },
  {
   "cell_type": "code",
   "execution_count": 117,
   "metadata": {},
   "outputs": [],
   "source": [
    "cc_weight = 0 # the weight of connected components\n",
    "def dfs_cc_vtx_weight(G,v):\n",
    "    marked[v] = True\n",
    "    global cc_weight\n",
    "    cc_weight += data[v-1] #verticies in 'data' start from 0\n",
    "    for w in G[v]:\n",
    "        if not(marked[w]):\n",
    "            dfs_cc_vtx_weight(G,w)"
   ]
  },
  {
   "cell_type": "code",
   "execution_count": 118,
   "metadata": {},
   "outputs": [],
   "source": [
    "def cutTheTree(data, edges):\n",
    "    global marked\n",
    "    global cc_weight\n",
    "    marked = {}\n",
    "    diff_list = []\n",
    "    for i in range(0,len(edges)):\n",
    "        G = vtx_graph(len(data))\n",
    "        add_edges(G,edges,i)\n",
    "        print(G)\n",
    "        \n",
    "        weight_list = []\n",
    "        for k in G.keys():\n",
    "            marked[k] = False\n",
    "        \n",
    "        for s in G.keys():\n",
    "            #print('Before: s = ',s, 'marked:', marked)\n",
    "            cc_weight = 0\n",
    "            if not(marked[s]):\n",
    "            #    print('Run DFS now')\n",
    "                dfs_cc_vtx_weight(G,s)\n",
    "                weight_list.append(cc_weight)\n",
    "            #print('After: s = ',s, 'marked:', marked)\n",
    "                \n",
    "        if len(weight_list)!=2:\n",
    "            print('Error: number of subtrees detected is ', len(weight_list),'. Should be exactly 2')\n",
    "        print(weight_list)\n",
    "        diff_list.append(abs(weight_list[0]-weight_list[1]))\n",
    "        \n",
    "    return min(diff_list)\n",
    "    "
   ]
  },
  {
   "cell_type": "code",
   "execution_count": 119,
   "metadata": {},
   "outputs": [
    {
     "name": "stdout",
     "output_type": "stream",
     "text": [
      "{1: [], 2: [3, 5], 3: [2], 4: [5], 5: [2, 4, 6], 6: [5]}\n",
      "[100, 1500]\n",
      "{1: [2], 2: [1, 5], 3: [], 4: [5], 5: [2, 4, 6], 6: [5]}\n",
      "[1500, 100]\n",
      "{1: [2], 2: [1, 3], 3: [2], 4: [5], 5: [4, 6], 6: [5]}\n",
      "[400, 1200]\n",
      "{1: [2], 2: [1, 3, 5], 3: [2], 4: [], 5: [2, 6], 6: [5]}\n",
      "[1100, 500]\n",
      "{1: [2], 2: [1, 3, 5], 3: [2], 4: [5], 5: [2, 4], 6: []}\n",
      "[1000, 600]\n"
     ]
    },
    {
     "data": {
      "text/plain": [
       "400"
      ]
     },
     "execution_count": 119,
     "metadata": {},
     "output_type": "execute_result"
    }
   ],
   "source": [
    "cutTheTree(data,edges)"
   ]
  },
  {
   "cell_type": "code",
   "execution_count": null,
   "metadata": {},
   "outputs": [],
   "source": []
  }
 ],
 "metadata": {
  "kernelspec": {
   "display_name": "Python 3",
   "language": "python",
   "name": "python3"
  },
  "language_info": {
   "codemirror_mode": {
    "name": "ipython",
    "version": 3
   },
   "file_extension": ".py",
   "mimetype": "text/x-python",
   "name": "python",
   "nbconvert_exporter": "python",
   "pygments_lexer": "ipython3",
   "version": "3.8.5"
  }
 },
 "nbformat": 4,
 "nbformat_minor": 4
}
