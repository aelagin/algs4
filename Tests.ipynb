{
 "cells": [
  {
   "cell_type": "code",
   "execution_count": 10,
   "metadata": {},
   "outputs": [],
   "source": [
    "from collections import deque"
   ]
  },
  {
   "cell_type": "code",
   "execution_count": 11,
   "metadata": {},
   "outputs": [],
   "source": [
    "a = 'abcdefghjklmnopqrtuvwxyz'"
   ]
  },
  {
   "cell_type": "code",
   "execution_count": 19,
   "metadata": {},
   "outputs": [
    {
     "name": "stdout",
     "output_type": "stream",
     "text": [
      "========\n"
     ]
    },
    {
     "data": {
      "text/plain": [
       "'zyxwvutrqponmlkjhgfedcba'"
      ]
     },
     "execution_count": 19,
     "metadata": {},
     "output_type": "execute_result"
    }
   ],
   "source": [
    "q = deque()\n",
    "for i in range(0,len(a)):\n",
    "    q.append(a[i])\n",
    "\n",
    "print('========')\n",
    "    \n",
    "inv_a = ''\n",
    "while(bool(q)):\n",
    "    inv_a = ''.join((inv_a,q.pop()))\n",
    "inv_a"
   ]
  },
  {
   "cell_type": "code",
   "execution_count": 21,
   "metadata": {},
   "outputs": [
    {
     "data": {
      "text/plain": [
       "False"
      ]
     },
     "execution_count": 21,
     "metadata": {},
     "output_type": "execute_result"
    }
   ],
   "source": [
    "f1 = [1,2,3]\n",
    "f2 = [1,2,3,5]\n",
    "\n",
    "b = f1==f2\n",
    "\n",
    "b"
   ]
  },
  {
   "cell_type": "code",
   "execution_count": 22,
   "metadata": {},
   "outputs": [
    {
     "data": {
      "text/plain": [
       "1"
      ]
     },
     "execution_count": 22,
     "metadata": {},
     "output_type": "execute_result"
    }
   ],
   "source": [
    "abs(9-10)"
   ]
  },
  {
   "cell_type": "code",
   "execution_count": 31,
   "metadata": {},
   "outputs": [
    {
     "name": "stdout",
     "output_type": "stream",
     "text": [
      "NO\n"
     ]
    }
   ],
   "source": [
    "hr = 'hackerrank'\n",
    "s0 = 'hackerrank'\n",
    "s1 = 'hereiamstackerrank'\n",
    "s2 = 'hackerworld'\n",
    "s=s2\n",
    "k = 0\n",
    "count = 0\n",
    "len_hr = len(hr)\n",
    "for i in range(0,len_hr):\n",
    "    cmatch = False\n",
    "    while not(cmatch or k==len(s) or count==len_hr):\n",
    "        if s[k] == hr[i]:\n",
    "            cmatch = True\n",
    "            count += 1\n",
    "            k += 1\n",
    "            break\n",
    "        k += 1\n",
    "if(count==len_hr):\n",
    "    print('YES')\n",
    "else:\n",
    "    print('NO')"
   ]
  },
  {
   "cell_type": "code",
   "execution_count": 32,
   "metadata": {},
   "outputs": [],
   "source": [
    "d = {}\n",
    "d['a'] = 1"
   ]
  },
  {
   "cell_type": "code",
   "execution_count": 38,
   "metadata": {},
   "outputs": [
    {
     "name": "stdout",
     "output_type": "stream",
     "text": [
      "a\n"
     ]
    }
   ],
   "source": [
    "if d['a']:\n",
    "    print('a')\n",
    "d['a'] += 1\n",
    "d['a']\n",
    "if 'b' in d:\n",
    "    print(d['a'])"
   ]
  },
  {
   "cell_type": "code",
   "execution_count": 41,
   "metadata": {},
   "outputs": [],
   "source": [
    "def isValid(s):\n",
    "    d = {}\n",
    "    for i in range(0,len(s)):\n",
    "        if s[i] in d:\n",
    "            d[s[i]] += 1\n",
    "        else:\n",
    "            d[s[i]] = 1\n",
    "    return d"
   ]
  },
  {
   "cell_type": "code",
   "execution_count": 43,
   "metadata": {},
   "outputs": [
    {
     "name": "stdout",
     "output_type": "stream",
     "text": [
      "{'a': 2, 'b': 1, 'c': 1, 'g': 1}\n"
     ]
    }
   ],
   "source": [
    "d = isValid('aabcg')\n",
    "print(d)"
   ]
  },
  {
   "cell_type": "code",
   "execution_count": 71,
   "metadata": {},
   "outputs": [
    {
     "name": "stdout",
     "output_type": "stream",
     "text": [
      "2\n",
      "1\n",
      "1\n",
      "1\n"
     ]
    }
   ],
   "source": [
    "for i in d:\n",
    "    print(d[i])"
   ]
  },
  {
   "cell_type": "code",
   "execution_count": 68,
   "metadata": {},
   "outputs": [
    {
     "data": {
      "text/plain": [
       "2"
      ]
     },
     "execution_count": 68,
     "metadata": {},
     "output_type": "execute_result"
    }
   ],
   "source": [
    "len(set(d.values()))"
   ]
  },
  {
   "cell_type": "code",
   "execution_count": 58,
   "metadata": {},
   "outputs": [],
   "source": [
    "s = set(d.values())"
   ]
  },
  {
   "cell_type": "code",
   "execution_count": 62,
   "metadata": {},
   "outputs": [
    {
     "name": "stdout",
     "output_type": "stream",
     "text": [
      "2\n",
      "1\n",
      "1\n",
      "1\n"
     ]
    }
   ],
   "source": [
    "for i in d.values():\n",
    "    print(i)"
   ]
  },
  {
   "cell_type": "code",
   "execution_count": 66,
   "metadata": {},
   "outputs": [
    {
     "data": {
      "text/plain": [
       "2"
      ]
     },
     "execution_count": 66,
     "metadata": {},
     "output_type": "execute_result"
    }
   ],
   "source": [
    "max(d.values())"
   ]
  },
  {
   "cell_type": "code",
   "execution_count": 77,
   "metadata": {},
   "outputs": [],
   "source": [
    "st = 'reg {} dfdf'.format(10)"
   ]
  },
  {
   "cell_type": "code",
   "execution_count": 78,
   "metadata": {},
   "outputs": [
    {
     "data": {
      "text/plain": [
       "'reg 10 dfdf'"
      ]
     },
     "execution_count": 78,
     "metadata": {},
     "output_type": "execute_result"
    }
   ],
   "source": [
    "#st.format(5)\n",
    "st"
   ]
  },
  {
   "cell_type": "code",
   "execution_count": 81,
   "metadata": {},
   "outputs": [
    {
     "data": {
      "text/plain": [
       "3"
      ]
     },
     "execution_count": 81,
     "metadata": {},
     "output_type": "execute_result"
    }
   ],
   "source": [
    "st.find(' ')"
   ]
  },
  {
   "cell_type": "code",
   "execution_count": 98,
   "metadata": {},
   "outputs": [],
   "source": [
    "p = 'abcdeff1ghftdeff1'"
   ]
  },
  {
   "cell_type": "code",
   "execution_count": 99,
   "metadata": {},
   "outputs": [],
   "source": [
    "ps = list(p[-i:] for i in range(1,len(p)+1) )"
   ]
  },
  {
   "cell_type": "code",
   "execution_count": 100,
   "metadata": {},
   "outputs": [],
   "source": [
    "ps.sort()"
   ]
  },
  {
   "cell_type": "code",
   "execution_count": 101,
   "metadata": {},
   "outputs": [
    {
     "data": {
      "text/plain": [
       "['1',\n",
       " '1ghftdeff1',\n",
       " 'abcdeff1ghftdeff1',\n",
       " 'bcdeff1ghftdeff1',\n",
       " 'cdeff1ghftdeff1',\n",
       " 'deff1',\n",
       " 'deff1ghftdeff1',\n",
       " 'eff1',\n",
       " 'eff1ghftdeff1',\n",
       " 'f1',\n",
       " 'f1ghftdeff1',\n",
       " 'ff1',\n",
       " 'ff1ghftdeff1',\n",
       " 'ftdeff1',\n",
       " 'ghftdeff1',\n",
       " 'hftdeff1',\n",
       " 'tdeff1']"
      ]
     },
     "execution_count": 101,
     "metadata": {},
     "output_type": "execute_result"
    }
   ],
   "source": [
    "ps"
   ]
  },
  {
   "cell_type": "code",
   "execution_count": 155,
   "metadata": {},
   "outputs": [],
   "source": [
    "arr = [203, 204, 205, 206, 207, 208, 203, 204, 205, 206]\n",
    "brr = [203, 204, 204, 205, 206, 207, 205, 208, 203, 206, 205, 206, 204, 310]"
   ]
  },
  {
   "cell_type": "code",
   "execution_count": 114,
   "metadata": {},
   "outputs": [
    {
     "name": "stdout",
     "output_type": "stream",
     "text": [
      "[203, 203, 204, 204, 205, 205, 206, 206, 207, 208]\n",
      "[203, 203, 204, 204, 204, 205, 205, 205, 206, 206, 206, 207, 208]\n"
     ]
    }
   ],
   "source": [
    "arr.sort()\n",
    "brr.sort()\n",
    "print(arr)\n",
    "print(brr)"
   ]
  },
  {
   "cell_type": "code",
   "execution_count": 145,
   "metadata": {},
   "outputs": [],
   "source": [
    "from collections import Counter"
   ]
  },
  {
   "cell_type": "code",
   "execution_count": 146,
   "metadata": {},
   "outputs": [],
   "source": [
    "carr = Counter(arr)\n",
    "cbrr = Counter(brr)"
   ]
  },
  {
   "cell_type": "code",
   "execution_count": 147,
   "metadata": {},
   "outputs": [
    {
     "name": "stdout",
     "output_type": "stream",
     "text": [
      "Counter({203: 2, 204: 2, 205: 2, 206: 2, 207: 1, 208: 1})\n",
      "Counter({204: 3, 205: 3, 206: 3, 203: 2, 207: 1, 208: 1, 310: 1})\n"
     ]
    }
   ],
   "source": [
    "print(carr)\n",
    "print(cbrr)"
   ]
  },
  {
   "cell_type": "code",
   "execution_count": 148,
   "metadata": {},
   "outputs": [],
   "source": [
    "m = []"
   ]
  },
  {
   "cell_type": "code",
   "execution_count": 149,
   "metadata": {},
   "outputs": [
    {
     "name": "stdout",
     "output_type": "stream",
     "text": [
      "Missing  1  of  204\n",
      "Missing  1  of  205\n",
      "Missing  1  of  206\n",
      "Totally missing  310\n"
     ]
    },
    {
     "data": {
      "text/plain": [
       "[204, 205, 206, 310]"
      ]
     },
     "execution_count": 149,
     "metadata": {},
     "output_type": "execute_result"
    }
   ],
   "source": [
    "for i in cbrr.keys():\n",
    "    if carr[i]:\n",
    "        if (cbrr[i] - carr[i])>0:\n",
    "            print('Missing ', cbrr[i] - carr[i], ' of ',i)\n",
    "            m.append(i)\n",
    "    else:\n",
    "        print('Totally missing ', i)\n",
    "        m.append(i)\n",
    "m"
   ]
  },
  {
   "cell_type": "code",
   "execution_count": 150,
   "metadata": {},
   "outputs": [],
   "source": [
    "m.sort()"
   ]
  },
  {
   "cell_type": "code",
   "execution_count": 151,
   "metadata": {},
   "outputs": [
    {
     "data": {
      "text/plain": [
       "[204, 205, 206, 310]"
      ]
     },
     "execution_count": 151,
     "metadata": {},
     "output_type": "execute_result"
    }
   ],
   "source": [
    "m"
   ]
  },
  {
   "cell_type": "code",
   "execution_count": 152,
   "metadata": {},
   "outputs": [],
   "source": [
    "from collections import OrderedDict"
   ]
  },
  {
   "cell_type": "code",
   "execution_count": 157,
   "metadata": {},
   "outputs": [
    {
     "ename": "TypeError",
     "evalue": "'int' object is not iterable",
     "output_type": "error",
     "traceback": [
      "\u001b[0;31m---------------------------------------------------------------------------\u001b[0m",
      "\u001b[0;31mTypeError\u001b[0m                                 Traceback (most recent call last)",
      "\u001b[0;32m<ipython-input-157-5b9d9a9797ae>\u001b[0m in \u001b[0;36m<module>\u001b[0;34m\u001b[0m\n\u001b[0;32m----> 1\u001b[0;31m \u001b[0modict_a\u001b[0m \u001b[0;34m=\u001b[0m \u001b[0mOrderedDict\u001b[0m\u001b[0;34m(\u001b[0m\u001b[0marr\u001b[0m\u001b[0;34m)\u001b[0m\u001b[0;34m\u001b[0m\u001b[0;34m\u001b[0m\u001b[0m\n\u001b[0m\u001b[1;32m      2\u001b[0m \u001b[0modict_b\u001b[0m \u001b[0;34m=\u001b[0m \u001b[0mOrderedDict\u001b[0m\u001b[0;34m(\u001b[0m\u001b[0mbrr\u001b[0m\u001b[0;34m)\u001b[0m\u001b[0;34m\u001b[0m\u001b[0;34m\u001b[0m\u001b[0m\n",
      "\u001b[0;31mTypeError\u001b[0m: 'int' object is not iterable"
     ]
    }
   ],
   "source": [
    "odict_a = OrderedDict(arr)\n",
    "odict_b = OrderedDict(brr)"
   ]
  },
  {
   "cell_type": "code",
   "execution_count": 166,
   "metadata": {},
   "outputs": [],
   "source": [
    "def balancedSums(arr):\n",
    "    sumT = sum(arr)\n",
    "    sumL = 0;\n",
    "    if len(arr)==1:\n",
    "        return 'YES'\n",
    "    for i in range(0,len(arr)):\n",
    "        # sumL = sum(arr[:i])                                  # this is NOT a linear time solution\n",
    "        # sumR = sum(arr[i+1:]) if i<len(arr)-1 else 0         # this is NOT a linear time solution\n",
    "        sumL += 0 if i==0 else arr[i-1]                        # this IS linear time solution\n",
    "        sumR = sumT-sumL-arr[i]                                # this IS linear time solution\n",
    "        print(i,sumL,sumR)\n",
    "        if sumL == sumR:\n",
    "            return 'YES'\n",
    "    return 'NO'"
   ]
  },
  {
   "cell_type": "code",
   "execution_count": 167,
   "metadata": {},
   "outputs": [
    {
     "data": {
      "text/plain": [
       "'YES'"
      ]
     },
     "execution_count": 167,
     "metadata": {},
     "output_type": "execute_result"
    }
   ],
   "source": [
    "arr = [1]\n",
    "balancedSums(arr)"
   ]
  },
  {
   "cell_type": "code",
   "execution_count": 176,
   "metadata": {},
   "outputs": [
    {
     "data": {
      "text/plain": [
       "5"
      ]
     },
     "execution_count": 176,
     "metadata": {},
     "output_type": "execute_result"
    }
   ],
   "source": [
    "min(5,6)"
   ]
  },
  {
   "cell_type": "code",
   "execution_count": 175,
   "metadata": {},
   "outputs": [],
   "source": [
    "from collections import Counter"
   ]
  },
  {
   "cell_type": "code",
   "execution_count": 181,
   "metadata": {},
   "outputs": [],
   "source": [
    "s1 = 'A5BCDD'\n",
    "s2 = 'CDD3tg'\n",
    "\n",
    "def makeAnagram(a, b):\n",
    "    cc = Counter(''.join((a,b)))\n",
    "    ca = Counter(a)\n",
    "    cb = Counter(b)\n",
    "    cd = 0\n",
    "    for k in cc.keys():\n",
    "        ca_k = ca[k] if ca[k] else 0\n",
    "        cb_k = cb[k] if cb[k] else 0\n",
    "        cd += abs(ca[k]-cb[k])\n",
    "    return cd\n",
    "#         if ca[k] and cb[k]:\n",
    "#             cd += abs(ca[k]-cb[k])\n",
    "#         elif ca[k] and not(cb[k]):\n",
    "            \n",
    "            "
   ]
  },
  {
   "cell_type": "code",
   "execution_count": 182,
   "metadata": {},
   "outputs": [
    {
     "data": {
      "text/plain": [
       "6"
      ]
     },
     "execution_count": 182,
     "metadata": {},
     "output_type": "execute_result"
    }
   ],
   "source": [
    "makeAnagram(s1,s2)"
   ]
  },
  {
   "cell_type": "code",
   "execution_count": 194,
   "metadata": {},
   "outputs": [],
   "source": [
    "def insertionSort1(n, arr):\n",
    "    le = arr[n-1]\n",
    "    for i in range(n-1,-1,-1):\n",
    "        if le<arr[i-1] and i!=0:\n",
    "            arr[i]=arr[i-1]\n",
    "            print(str(arr).strip('[],').replace(',',''))\n",
    "        else:\n",
    "            arr[i]=le\n",
    "            print(str(arr).strip('[],').replace(',',''))\n",
    "            break"
   ]
  },
  {
   "cell_type": "code",
   "execution_count": 214,
   "metadata": {},
   "outputs": [],
   "source": [
    "def insertionSort2(n, arr):\n",
    "    if n==1:\n",
    "        print(str(arr).strip('[]').replace(',',''))\n",
    "    for i in range(1,n):\n",
    "        while arr[i]<arr[i-1] and i>=1:\n",
    "            tmp = arr[i-1]\n",
    "            arr[i-1] = arr[i]\n",
    "            arr[i] = tmp\n",
    "            i -= 1\n",
    "        print(str(arr).strip('[]').replace(',',''))\n"
   ]
  },
  {
   "cell_type": "code",
   "execution_count": 215,
   "metadata": {},
   "outputs": [
    {
     "name": "stdout",
     "output_type": "stream",
     "text": [
      "2 3 4 5 6 7 8 9 10 1\n",
      "2 3 4 5 6 7 8 9 10 1\n",
      "2 3 4 5 6 7 8 9 10 1\n",
      "2 3 4 5 6 7 8 9 10 1\n",
      "2 3 4 5 6 7 8 9 10 1\n",
      "2 3 4 5 6 7 8 9 10 1\n",
      "2 3 4 5 6 7 8 9 10 1\n",
      "2 3 4 5 6 7 8 9 10 1\n",
      "1 2 3 4 5 6 7 8 9 10\n"
     ]
    }
   ],
   "source": [
    "a2 = [1, 3, 5, 9, 13, 22, 27, 35, 46, 51, 55, 83, 87, 23]\n",
    "n2 = 14\n",
    "a3 = [2, 3, 4, 5, 6, 7, 8, 9, 10, 1]\n",
    "n3 = 10\n",
    "insertionSort2(n3,a3)"
   ]
  },
  {
   "cell_type": "code",
   "execution_count": 272,
   "metadata": {},
   "outputs": [],
   "source": [
    "L = [1,1,1,2,2,3,3,3,3,3,3,3,3,3,4,4,5,5,5,5]\n",
    "L2 = [1,1,1,2,2,3,4,4,5,5,5,5]\n",
    "L3 = [1,1,1,11,2,2,2,2,3,3,3,33]"
   ]
  },
  {
   "cell_type": "code",
   "execution_count": 224,
   "metadata": {},
   "outputs": [],
   "source": [
    "def begin_group(L,ind):\n",
    "    while ind>0 :\n",
    "        if L[ind]==L[ind-1]:\n",
    "            ind -= 1\n",
    "        else:\n",
    "            break\n",
    "    return ind"
   ]
  },
  {
   "cell_type": "code",
   "execution_count": 237,
   "metadata": {},
   "outputs": [],
   "source": [
    "def begin_group2(L,ind):\n",
    "    while L[ind]==L[ind-1] and ind!=0:\n",
    "        ind -= 1\n",
    "    return ind"
   ]
  },
  {
   "cell_type": "code",
   "execution_count": 246,
   "metadata": {},
   "outputs": [
    {
     "data": {
      "text/plain": [
       "0"
      ]
     },
     "execution_count": 246,
     "metadata": {},
     "output_type": "execute_result"
    }
   ],
   "source": [
    "ind = 8\n",
    "begin_group(L,ind) - begin_group2(L,ind)"
   ]
  },
  {
   "cell_type": "code",
   "execution_count": 273,
   "metadata": {},
   "outputs": [],
   "source": [
    "def above_threshold(L):\n",
    "    thr =int(0.25* len(L))\n",
    "    left_e = L[0]\n",
    "    k = thr\n",
    "    while  k<len(L):\n",
    "        if L[k] == left_e:\n",
    "            return L[k]\n",
    "        left_e = L[begin_group(L,k)]\n",
    "        k = begin_group(L,k)+thr\n",
    "    return None\n"
   ]
  },
  {
   "cell_type": "code",
   "execution_count": 274,
   "metadata": {},
   "outputs": [],
   "source": [
    "def above_threshold2(L):\n",
    "    thr =int(0.25* len(L)) + 1\n",
    "    left_e = L[0]\n",
    "    k = thr\n",
    "    while  k<len(L):\n",
    "        if L[k] == left_e:\n",
    "            return L[k]\n",
    "        left_e = L[begin_group(L,k)]\n",
    "        k = begin_group(L,k)+thr\n",
    "    return None"
   ]
  },
  {
   "cell_type": "code",
   "execution_count": 275,
   "metadata": {},
   "outputs": [
    {
     "name": "stdout",
     "output_type": "stream",
     "text": [
      "2 None\n"
     ]
    }
   ],
   "source": [
    "res = above_threshold(L3)\n",
    "res2 = above_threshold2(L3)\n",
    "print(res, res2)"
   ]
  },
  {
   "cell_type": "code",
   "execution_count": 262,
   "metadata": {},
   "outputs": [
    {
     "data": {
      "text/plain": [
       "12"
      ]
     },
     "execution_count": 262,
     "metadata": {},
     "output_type": "execute_result"
    }
   ],
   "source": [
    "len(L3)"
   ]
  },
  {
   "cell_type": "code",
   "execution_count": 279,
   "metadata": {},
   "outputs": [
    {
     "data": {
      "text/plain": [
       "1"
      ]
     },
     "execution_count": 279,
     "metadata": {},
     "output_type": "execute_result"
    }
   ],
   "source": [
    "int(11./6.)"
   ]
  },
  {
   "cell_type": "code",
   "execution_count": 306,
   "metadata": {},
   "outputs": [],
   "source": [
    "L = [1,2,3,5,7,4,9]"
   ]
  },
  {
   "cell_type": "code",
   "execution_count": 310,
   "metadata": {},
   "outputs": [],
   "source": [
    "def pairs_search(L, diff):\n",
    "    pairs_list = []\n",
    "    ht = {}\n",
    "    for ind in range(0,len(L)):\n",
    "        print(ind,L[ind],ht)\n",
    "        if L[ind]-diff in ht:\n",
    "            pairs_list.append([L[ind] - diff, L[ind]])\n",
    "        ht[L[ind]] = L[ind]\n",
    "    return pairs_list"
   ]
  },
  {
   "cell_type": "code",
   "execution_count": 311,
   "metadata": {},
   "outputs": [
    {
     "data": {
      "text/plain": [
       "[[1, 5], [3, 7], [5, 9]]"
      ]
     },
     "execution_count": 311,
     "metadata": {},
     "output_type": "execute_result"
    }
   ],
   "source": [
    "l = pairs_search2(L,4)\n",
    "l"
   ]
  },
  {
   "cell_type": "code",
   "execution_count": 312,
   "metadata": {},
   "outputs": [
    {
     "data": {
      "text/plain": [
       "[1, 2, 3, 4, 5, 7, 9]"
      ]
     },
     "execution_count": 312,
     "metadata": {},
     "output_type": "execute_result"
    }
   ],
   "source": [
    "L.sort()\n",
    "L"
   ]
  },
  {
   "cell_type": "code",
   "execution_count": 1,
   "metadata": {},
   "outputs": [],
   "source": [
    "def has_duplicates(a):\n",
    "    if len(a)==1:\n",
    "        return False # no duplicates\n",
    "    a.sort()\n",
    "    for i in range(1,len(a)):\n",
    "        if a[i-1]==a[i]:\n",
    "            return True # duplicates detected\n",
    "    return False\n",
    "            \n",
    "def partitionArray(k, numbers):\n",
    "    # Write your code here\n",
    "    if len(numbers)%k !=0:\n",
    "        return 'No'\n",
    "    for i in range(0,int(len(numbers)/k)):\n",
    "        if has_duplicates(numbers[i*k:i*(k+1)]):\n",
    "            return 'No'\n",
    "    return 'Yes'\n",
    "        "
   ]
  },
  {
   "cell_type": "code",
   "execution_count": 3,
   "metadata": {},
   "outputs": [],
   "source": [
    "# 'd' is a dict of lists\n",
    "# append a list with a value 'v' corresponding to the key 'k'\n",
    "def add_edge(d,k,w=None):\n",
    "    if k in d.keys():\n",
    "        d[k].append(w)\n",
    "    else :\n",
    "        d[k] = [w]"
   ]
  },
  {
   "cell_type": "code",
   "execution_count": 6,
   "metadata": {},
   "outputs": [],
   "source": [
    "#data = [0, 100, 200, 100, 500, 100, 600]\n",
    "#edges = [[1, 2], [2, 3], [2, 5], [4, 5], [5, 6]]\n",
    "data  = [0,1,2,3,4,5,6]\n",
    "edges = [[1,2],[1,3],[2,6],[3,4],[3,5]]"
   ]
  },
  {
   "cell_type": "code",
   "execution_count": null,
   "metadata": {},
   "outputs": [],
   "source": [
    "def add_vertex(G, v):\n",
    "    if v in G.keys():\n",
    "        print('Warning: vertex already exists')\n",
    "    else:\n",
    "        G[v] = []"
   ]
  },
  {
   "cell_type": "code",
   "execution_count": 7,
   "metadata": {},
   "outputs": [
    {
     "data": {
      "text/plain": [
       "{1: [2, 3], 2: [1, 6], 3: [1, 4, 5], 6: [2], 4: [3], 5: [3]}"
      ]
     },
     "execution_count": 7,
     "metadata": {},
     "output_type": "execute_result"
    }
   ],
   "source": [
    "def build_graph(edges):\n",
    "    G = {}\n",
    "    for e in edges:\n",
    "        add_edge(G,e[0],e[1])\n",
    "        add_edge(G,e[1],e[0])\n",
    "    return G\n",
    "\n",
    "G = build_graph(edges) \n",
    "G"
   ]
  },
  {
   "cell_type": "code",
   "execution_count": null,
   "metadata": {},
   "outputs": [],
   "source": [
    "def delete_edge(G, edge):\n",
    "    if edge[0] in G and edge[1] in G:\n",
    "        "
   ]
  },
  {
   "cell_type": "code",
   "execution_count": 19,
   "metadata": {},
   "outputs": [],
   "source": [
    "if 3 in G and 10 in G:\n",
    "    print('X')"
   ]
  },
  {
   "cell_type": "code",
   "execution_count": null,
   "metadata": {},
   "outputs": [],
   "source": []
  }
 ],
 "metadata": {
  "kernelspec": {
   "display_name": "Python 3",
   "language": "python",
   "name": "python3"
  },
  "language_info": {
   "codemirror_mode": {
    "name": "ipython",
    "version": 3
   },
   "file_extension": ".py",
   "mimetype": "text/x-python",
   "name": "python",
   "nbconvert_exporter": "python",
   "pygments_lexer": "ipython3",
   "version": "3.8.5"
  }
 },
 "nbformat": 4,
 "nbformat_minor": 4
}
