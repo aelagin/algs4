{
 "cells": [
  {
   "cell_type": "markdown",
   "metadata": {},
   "source": [
    "### Grading Students"
   ]
  },
  {
   "cell_type": "code",
   "execution_count": 2,
   "metadata": {},
   "outputs": [],
   "source": [
    "import math\n",
    "\n",
    "def x5_rounding(g):\n",
    "    if math.ceil(g/5)*5 - g < 3:\n",
    "        return math.ceil(g/5)*5\n",
    "    else:\n",
    "        return g\n",
    "\n",
    "def gradingStudents(grades):\n",
    "    # Write your code here\n",
    "    res = []\n",
    "    for g in grades:\n",
    "        if g<38:\n",
    "            res.append(g)\n",
    "        else:\n",
    "            res.append(x5_rounding(g))\n",
    "    return res"
   ]
  },
  {
   "cell_type": "code",
   "execution_count": null,
   "metadata": {},
   "outputs": [],
   "source": []
  },
  {
   "cell_type": "code",
   "execution_count": null,
   "metadata": {},
   "outputs": [],
   "source": []
  }
 ],
 "metadata": {
  "kernelspec": {
   "display_name": "Python 3",
   "language": "python",
   "name": "python3"
  },
  "language_info": {
   "codemirror_mode": {
    "name": "ipython",
    "version": 3
   },
   "file_extension": ".py",
   "mimetype": "text/x-python",
   "name": "python",
   "nbconvert_exporter": "python",
   "pygments_lexer": "ipython3",
   "version": "3.8.5"
  }
 },
 "nbformat": 4,
 "nbformat_minor": 4
}
