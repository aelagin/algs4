{
 "cells": [
  {
   "cell_type": "code",
   "execution_count": 1,
   "metadata": {},
   "outputs": [],
   "source": [
    "import random as rnd"
   ]
  },
  {
   "cell_type": "code",
   "execution_count": 2,
   "metadata": {},
   "outputs": [],
   "source": [
    "def partition(a, lo, hi):\n",
    "    i = lo\n",
    "    j = hi\n",
    "    while True:\n",
    "        while a[i] <= a[lo] :\n",
    "            i += 1\n",
    "            if i==hi:\n",
    "                break\n",
    "        while a[j] > a[lo] :\n",
    "            j -= 1\n",
    "            if j==0 :\n",
    "                break\n",
    "        if i >= j :\n",
    "            break\n",
    "        a[i], a[j] = a[j], a[i]\n",
    "    a[lo], a[j] = a[j], a[lo]\n",
    "        \n",
    "    return j"
   ]
  },
  {
   "cell_type": "code",
   "execution_count": 3,
   "metadata": {},
   "outputs": [],
   "source": [
    "L = [5,5,5,6,7,3,3,7,8,0,1,2,3,4,6,8]\n",
    "#L = [5]\n",
    "#partition(L)"
   ]
  },
  {
   "cell_type": "code",
   "execution_count": 4,
   "metadata": {},
   "outputs": [],
   "source": [
    "def quick_sort(a, lo, hi):\n",
    "    if hi<=lo :\n",
    "        return\n",
    "    j = partition(a, lo, hi)\n",
    "    quick_sort(a,lo,j-1)\n",
    "    quick_sort(a,j+1,hi)"
   ]
  },
  {
   "cell_type": "code",
   "execution_count": 5,
   "metadata": {},
   "outputs": [],
   "source": [
    "def QuickSort(a) :\n",
    "    rnd.shuffle(a)\n",
    "    quick_sort(a, 0, len(a)-1)"
   ]
  },
  {
   "cell_type": "code",
   "execution_count": 6,
   "metadata": {},
   "outputs": [
    {
     "data": {
      "text/plain": [
       "[0, 1, 2, 3, 3, 3, 4, 5, 5, 5, 6, 6, 7, 7, 8, 8]"
      ]
     },
     "execution_count": 6,
     "metadata": {},
     "output_type": "execute_result"
    }
   ],
   "source": [
    "QuickSort(L)\n",
    "L"
   ]
  },
  {
   "cell_type": "code",
   "execution_count": 11,
   "metadata": {},
   "outputs": [],
   "source": [
    "def QuickSelect(a, k):\n",
    "    rnd.shuffle(a)\n",
    "    lo = 0\n",
    "    hi = len(a) - 1\n",
    "    while hi > lo :\n",
    "        j = partition(a, lo, hi)\n",
    "        if j < k :\n",
    "            lo = j + 1\n",
    "        elif j > k:\n",
    "            hi = j - 1\n",
    "        else : # (j==k)\n",
    "            return a[k]\n",
    "    return a[k]"
   ]
  },
  {
   "cell_type": "code",
   "execution_count": 8,
   "metadata": {},
   "outputs": [
    {
     "name": "stdout",
     "output_type": "stream",
     "text": [
      "L[ 0 ] =  0\n",
      "L[ 1 ] =  1\n",
      "L[ 2 ] =  2\n",
      "L[ 3 ] =  3\n",
      "L[ 4 ] =  3\n",
      "L[ 5 ] =  3\n",
      "L[ 6 ] =  4\n",
      "L[ 7 ] =  5\n",
      "L[ 8 ] =  5\n",
      "L[ 9 ] =  5\n",
      "L[ 10 ] =  6\n",
      "L[ 11 ] =  6\n",
      "L[ 12 ] =  7\n",
      "L[ 13 ] =  7\n",
      "L[ 14 ] =  8\n",
      "L[ 15 ] =  8\n"
     ]
    }
   ],
   "source": [
    "for i in range(0, len(L)):\n",
    "    print('L[',i,'] = ', L[i])"
   ]
  },
  {
   "cell_type": "code",
   "execution_count": 16,
   "metadata": {},
   "outputs": [
    {
     "data": {
      "text/plain": [
       "[5, 8, 2, 7, 6, 5, 4, 1, 8, 3, 7, 6, 3, 5, 3, 0]"
      ]
     },
     "execution_count": 16,
     "metadata": {},
     "output_type": "execute_result"
    }
   ],
   "source": [
    "rnd.shuffle(L)\n",
    "L"
   ]
  },
  {
   "cell_type": "code",
   "execution_count": 22,
   "metadata": {},
   "outputs": [
    {
     "data": {
      "text/plain": [
       "6"
      ]
     },
     "execution_count": 22,
     "metadata": {},
     "output_type": "execute_result"
    }
   ],
   "source": [
    "QuickSelect(L, 11)"
   ]
  },
  {
   "cell_type": "code",
   "execution_count": 20,
   "metadata": {},
   "outputs": [
    {
     "data": {
      "text/plain": [
       "[0, 3, 3, 4, 1, 5, 2, 5, 3, 5, 7, 6, 8, 8, 6, 7]"
      ]
     },
     "execution_count": 20,
     "metadata": {},
     "output_type": "execute_result"
    }
   ],
   "source": [
    "L"
   ]
  },
  {
   "cell_type": "code",
   "execution_count": null,
   "metadata": {},
   "outputs": [],
   "source": []
  }
 ],
 "metadata": {
  "kernelspec": {
   "display_name": "Python 3",
   "language": "python",
   "name": "python3"
  },
  "language_info": {
   "codemirror_mode": {
    "name": "ipython",
    "version": 3
   },
   "file_extension": ".py",
   "mimetype": "text/x-python",
   "name": "python",
   "nbconvert_exporter": "python",
   "pygments_lexer": "ipython3",
   "version": "3.8.5"
  }
 },
 "nbformat": 4,
 "nbformat_minor": 4
}
